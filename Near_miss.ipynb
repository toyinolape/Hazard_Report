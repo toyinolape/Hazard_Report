{
 "cells": [
  {
   "cell_type": "markdown",
   "metadata": {
    "id": "mLJ38Ag5bqyJ"
   },
   "source": [
    "We would make attempt to scrape the blocks of essays instead. \n",
    "\n"
   ]
  },
  {
   "cell_type": "code",
   "execution_count": 43,
   "metadata": {
    "id": "Uy0Klx0Dbowv"
   },
   "outputs": [],
   "source": [
    "import requests\n",
    "from bs4 import BeautifulSoup"
   ]
  },
  {
   "cell_type": "code",
   "execution_count": 44,
   "metadata": {
    "id": "eUYdr4L_b0Wl"
   },
   "outputs": [],
   "source": [
    "url = \"https://safetyzone.iogp.org/HighPotentialEvents/detail.asp?id=2538\"\n"
   ]
  },
  {
   "cell_type": "code",
   "execution_count": 45,
   "metadata": {
    "id": "olUxz4WqenhQ"
   },
   "outputs": [],
   "source": [
    "response = requests.get(url)"
   ]
  },
  {
   "cell_type": "code",
   "execution_count": 46,
   "metadata": {
    "id": "__9f-1EOexKL",
    "scrolled": true
   },
   "outputs": [
    {
     "data": {
      "text/plain": [
       "{'Year:': '2018',\n",
       " 'Region:': 'Asia/Australasia',\n",
       " 'Country:': 'AUSTRALIA',\n",
       " 'Location:': 'Onshore',\n",
       " 'Function:': 'Production',\n",
       " 'Cause:': 'Other',\n",
       " 'Activity:': 'Maintenance, inspection, testing'}"
      ]
     },
     "execution_count": 46,
     "metadata": {},
     "output_type": "execute_result"
    }
   ],
   "source": [
    "soup1 = BeautifulSoup(response.content, 'html.parser')\n",
    "#parse to find required data \n",
    "fields = soup1.find_all(\"table\", class_=\"listTable\")\n",
    "data = fields[2].find_all(\"td\")\n",
    "\n",
    "haz = []\n",
    "for vals in data:\n",
    "    try:\n",
    "        haz.append(vals.find(\"h5\").text)\n",
    "    except:\n",
    "        continue\n",
    "tabs = {haz[0]:haz[1], haz[3]:haz[4], haz[5]:haz[6],haz[7]:haz[8], haz[9]:haz[10], haz[11]:haz[12],haz[13]:haz[14]}\n",
    "tabs\n"
   ]
  },
  {
   "cell_type": "markdown",
   "metadata": {
    "id": "RRRDQDJ4fP7m"
   },
   "source": [
    "We can access all the data by iterating throught the incident numbers, we just need to make room for any errors and null values involved. "
   ]
  },
  {
   "cell_type": "code",
   "execution_count": 47,
   "metadata": {
    "id": "Dzau8Nysx_i8"
   },
   "outputs": [],
   "source": [
    "#function to get url and content\n",
    "def get_url(val):\n",
    "\n",
    "  base_url = \"https://safetyzone.iogp.org/HighPotentialEvents/detail.asp?id=\"\n",
    "  url_main = base_url + str(val)\n",
    "  response = requests.get(url_main)\n",
    "  soup = BeautifulSoup(response.content, \"html.parser\")\n",
    "  return soup"
   ]
  },
  {
   "cell_type": "code",
   "execution_count": 48,
   "metadata": {
    "id": "7e23nABL0zmg"
   },
   "outputs": [],
   "source": [
    "#Function to parse document and extract necessary fields\n",
    "\n",
    "def parse_fields(content):\n",
    "    fields = content.find_all(\"table\", class_=\"listTable\")\n",
    "    data = fields[2].find_all(\"td\")\n",
    "\n",
    "    haz = []\n",
    "    for vals in data:\n",
    "        try:\n",
    "            haz.append(vals.find(\"h5\").text)\n",
    "        except:\n",
    "            continue\n",
    "    tabs = {haz[0]:haz[1], haz[3]:haz[4], haz[5]:haz[6],haz[7]:haz[8], haz[9]:haz[10], haz[11]:haz[12],haz[13]:haz[14]}\n",
    "    return tabs\n",
    "\n"
   ]
  },
  {
   "cell_type": "code",
   "execution_count": 49,
   "metadata": {
    "id": "93aknVT5uagP"
   },
   "outputs": [],
   "source": [
    "#Now to import time and parse through 200 / / incidents randint(1298, 8662)\n",
    "#we would create a function to do this \n",
    "#The incident numbers dont follow a pattern so we will get some errors when the page doesnt exist so we would break and continue for cases like this.\n",
    "\n",
    "from random import seed\n",
    "from random import randint\n",
    "\n",
    "\n",
    "def scrape():\n",
    "  tot = []\n",
    "  seed(5) # seed random number generator\n",
    "  \n",
    "  for _ in range(200): # generate some integers\n",
    "    val = randint(1067, 2519)\n",
    "\n",
    "    try:\n",
    "      tot.append(parse_fields(get_url(val)))\n",
    "    except IndexError:\n",
    "      continue\n",
    "  tot\n",
    "    \n",
    "  return tot\n",
    "\n",
    "near_miss = scrape()\n",
    "\n"
   ]
  },
  {
   "cell_type": "code",
   "execution_count": 50,
   "metadata": {
    "colab": {
     "base_uri": "https://localhost:8080/"
    },
    "id": "g1Me4lzi8Yc-",
    "outputId": "52ce3d2e-804b-4b92-ea7c-e23cbd140881"
   },
   "outputs": [
    {
     "data": {
      "text/plain": [
       "{'Year:': '2017',\n",
       " 'Region:': 'Africa',\n",
       " 'Country:': 'CHAD',\n",
       " 'Location:': 'Onshore',\n",
       " 'Function:': 'Unspecified',\n",
       " 'Cause:': 'Struck by',\n",
       " 'Activity:': 'Transport - Land'}"
      ]
     },
     "execution_count": 50,
     "metadata": {},
     "output_type": "execute_result"
    }
   ],
   "source": [
    "near_miss[3]"
   ]
  },
  {
   "cell_type": "code",
   "execution_count": 54,
   "metadata": {
    "colab": {
     "base_uri": "https://localhost:8080/",
     "height": 255
    },
    "id": "9CfiHHtPsntp",
    "outputId": "8471a4e7-fde0-481e-f1a6-0e04f22a4bc1"
   },
   "outputs": [
    {
     "data": {
      "text/html": [
       "<div>\n",
       "<style scoped>\n",
       "    .dataframe tbody tr th:only-of-type {\n",
       "        vertical-align: middle;\n",
       "    }\n",
       "\n",
       "    .dataframe tbody tr th {\n",
       "        vertical-align: top;\n",
       "    }\n",
       "\n",
       "    .dataframe thead th {\n",
       "        text-align: right;\n",
       "    }\n",
       "</style>\n",
       "<table border=\"1\" class=\"dataframe\">\n",
       "  <thead>\n",
       "    <tr style=\"text-align: right;\">\n",
       "      <th></th>\n",
       "      <th>Activity:</th>\n",
       "      <th>Cause:</th>\n",
       "      <th>Country:</th>\n",
       "      <th>Function:</th>\n",
       "      <th>Location:</th>\n",
       "      <th>Region:</th>\n",
       "      <th>Year:</th>\n",
       "    </tr>\n",
       "  </thead>\n",
       "  <tbody>\n",
       "    <tr>\n",
       "      <th>0</th>\n",
       "      <td>Construction, commissioning, decommissioning</td>\n",
       "      <td>Pressure release</td>\n",
       "      <td>NIGERIA</td>\n",
       "      <td>Construction</td>\n",
       "      <td>Onshore</td>\n",
       "      <td>Africa</td>\n",
       "      <td>2016</td>\n",
       "    </tr>\n",
       "    <tr>\n",
       "      <th>1</th>\n",
       "      <td>Maintenance, inspection, testing</td>\n",
       "      <td>Explosions or burns</td>\n",
       "      <td>ANGOLA</td>\n",
       "      <td>Production</td>\n",
       "      <td>Offshore</td>\n",
       "      <td>Africa</td>\n",
       "      <td>2011</td>\n",
       "    </tr>\n",
       "    <tr>\n",
       "      <th>2</th>\n",
       "      <td>Construction, commissioning, decommissioning</td>\n",
       "      <td>Pressure release</td>\n",
       "      <td>USA</td>\n",
       "      <td>Construction</td>\n",
       "      <td>Onshore</td>\n",
       "      <td>North America</td>\n",
       "      <td>2013</td>\n",
       "    </tr>\n",
       "    <tr>\n",
       "      <th>3</th>\n",
       "      <td>Transport - Land</td>\n",
       "      <td>Struck by</td>\n",
       "      <td>CHAD</td>\n",
       "      <td>Unspecified</td>\n",
       "      <td>Onshore</td>\n",
       "      <td>Africa</td>\n",
       "      <td>2017</td>\n",
       "    </tr>\n",
       "    <tr>\n",
       "      <th>4</th>\n",
       "      <td>Maintenance, inspection, testing</td>\n",
       "      <td>Other</td>\n",
       "      <td>AUSTRALIA</td>\n",
       "      <td>Production</td>\n",
       "      <td>Onshore</td>\n",
       "      <td>Asia/Australasia</td>\n",
       "      <td>2017</td>\n",
       "    </tr>\n",
       "  </tbody>\n",
       "</table>\n",
       "</div>"
      ],
      "text/plain": [
       "                                      Activity:               Cause:  \\\n",
       "0  Construction, commissioning, decommissioning     Pressure release   \n",
       "1              Maintenance, inspection, testing  Explosions or burns   \n",
       "2  Construction, commissioning, decommissioning     Pressure release   \n",
       "3                              Transport - Land            Struck by   \n",
       "4              Maintenance, inspection, testing                Other   \n",
       "\n",
       "    Country:     Function: Location:           Region: Year:  \n",
       "0    NIGERIA  Construction   Onshore            Africa  2016  \n",
       "1     ANGOLA    Production  Offshore            Africa  2011  \n",
       "2        USA  Construction   Onshore     North America  2013  \n",
       "3       CHAD   Unspecified   Onshore            Africa  2017  \n",
       "4  AUSTRALIA    Production   Onshore  Asia/Australasia  2017  "
      ]
     },
     "execution_count": 54,
     "metadata": {},
     "output_type": "execute_result"
    }
   ],
   "source": [
    "#import necessary modules\n",
    "import pandas as pd\n",
    "\n",
    "near_miss1 = pd.DataFrame(near_miss, columns=[\"Activity:\",\"Cause:\",\"Country:\", \"Function:\",\"Location:\",\"Region:\",\"Year:\"])\n",
    "near_miss1.head()"
   ]
  },
  {
   "cell_type": "code",
   "execution_count": 63,
   "metadata": {
    "colab": {
     "base_uri": "https://localhost:8080/"
    },
    "id": "xxRuePGzHztB",
    "outputId": "621b2376-d59f-44db-d6e8-01be9c7b60af"
   },
   "outputs": [
    {
     "data": {
      "text/html": [
       "<div>\n",
       "<style scoped>\n",
       "    .dataframe tbody tr th:only-of-type {\n",
       "        vertical-align: middle;\n",
       "    }\n",
       "\n",
       "    .dataframe tbody tr th {\n",
       "        vertical-align: top;\n",
       "    }\n",
       "\n",
       "    .dataframe thead th {\n",
       "        text-align: right;\n",
       "    }\n",
       "</style>\n",
       "<table border=\"1\" class=\"dataframe\">\n",
       "  <thead>\n",
       "    <tr style=\"text-align: right;\">\n",
       "      <th></th>\n",
       "      <th>Activity:</th>\n",
       "      <th>Cause:</th>\n",
       "      <th>Country:</th>\n",
       "      <th>Function:</th>\n",
       "      <th>Location:</th>\n",
       "      <th>Region:</th>\n",
       "      <th>Year:</th>\n",
       "    </tr>\n",
       "  </thead>\n",
       "  <tbody>\n",
       "    <tr>\n",
       "      <th>count</th>\n",
       "      <td>180</td>\n",
       "      <td>180</td>\n",
       "      <td>180</td>\n",
       "      <td>180</td>\n",
       "      <td>180</td>\n",
       "      <td>180</td>\n",
       "      <td>180</td>\n",
       "    </tr>\n",
       "    <tr>\n",
       "      <th>unique</th>\n",
       "      <td>13</td>\n",
       "      <td>11</td>\n",
       "      <td>47</td>\n",
       "      <td>5</td>\n",
       "      <td>2</td>\n",
       "      <td>7</td>\n",
       "      <td>11</td>\n",
       "    </tr>\n",
       "    <tr>\n",
       "      <th>top</th>\n",
       "      <td>Drilling, workover, well services</td>\n",
       "      <td>Struck by</td>\n",
       "      <td>USA</td>\n",
       "      <td>Production</td>\n",
       "      <td>Onshore</td>\n",
       "      <td>Middle East</td>\n",
       "      <td>2012</td>\n",
       "    </tr>\n",
       "    <tr>\n",
       "      <th>freq</th>\n",
       "      <td>36</td>\n",
       "      <td>73</td>\n",
       "      <td>21</td>\n",
       "      <td>87</td>\n",
       "      <td>121</td>\n",
       "      <td>53</td>\n",
       "      <td>31</td>\n",
       "    </tr>\n",
       "  </tbody>\n",
       "</table>\n",
       "</div>"
      ],
      "text/plain": [
       "                                Activity:     Cause: Country:   Function:  \\\n",
       "count                                 180        180      180         180   \n",
       "unique                                 13         11       47           5   \n",
       "top     Drilling, workover, well services  Struck by      USA  Production   \n",
       "freq                                   36         73       21          87   \n",
       "\n",
       "       Location:      Region: Year:  \n",
       "count        180          180   180  \n",
       "unique         2            7    11  \n",
       "top      Onshore  Middle East  2012  \n",
       "freq         121           53    31  "
      ]
     },
     "execution_count": 63,
     "metadata": {},
     "output_type": "execute_result"
    }
   ],
   "source": [
    "near_miss1.describe()"
   ]
  },
  {
   "cell_type": "code",
   "execution_count": 61,
   "metadata": {
    "scrolled": true
   },
   "outputs": [],
   "source": [
    "near_miss1.to_csv(\"near_miss.csv\")"
   ]
  }
 ],
 "metadata": {
  "colab": {
   "collapsed_sections": [],
   "name": "Fatal_Events.ipynb",
   "provenance": []
  },
  "kernelspec": {
   "display_name": "Python 3",
   "language": "python",
   "name": "python3"
  },
  "language_info": {
   "codemirror_mode": {
    "name": "ipython",
    "version": 3
   },
   "file_extension": ".py",
   "mimetype": "text/x-python",
   "name": "python",
   "nbconvert_exporter": "python",
   "pygments_lexer": "ipython3",
   "version": "3.7.3"
  }
 },
 "nbformat": 4,
 "nbformat_minor": 1
}
