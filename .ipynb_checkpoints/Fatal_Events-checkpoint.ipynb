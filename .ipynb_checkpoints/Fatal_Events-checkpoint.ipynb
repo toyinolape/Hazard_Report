{
 "cells": [
  {
   "cell_type": "markdown",
   "metadata": {
    "id": "mLJ38Ag5bqyJ"
   },
   "source": [
    "We would make attempt to scrape the blocks of essays instead. \n",
    "\n"
   ]
  },
  {
   "cell_type": "code",
   "execution_count": 34,
   "metadata": {
    "id": "Uy0Klx0Dbowv"
   },
   "outputs": [],
   "source": [
    "import requests\n",
    "from bs4 import BeautifulSoup"
   ]
  },
  {
   "cell_type": "code",
   "execution_count": 35,
   "metadata": {
    "id": "eUYdr4L_b0Wl"
   },
   "outputs": [],
   "source": [
    "url = \"https://safetyzone.iogp.org/FatalIncidents/detail.asp?inc_id=8662\"\n"
   ]
  },
  {
   "cell_type": "code",
   "execution_count": 36,
   "metadata": {
    "id": "olUxz4WqenhQ"
   },
   "outputs": [],
   "source": [
    "response = requests.get(url)"
   ]
  },
  {
   "cell_type": "code",
   "execution_count": 37,
   "metadata": {
    "id": "__9f-1EOexKL"
   },
   "outputs": [],
   "source": [
    "soup1 = BeautifulSoup(response.content, 'html.parser')\n"
   ]
  },
  {
   "cell_type": "markdown",
   "metadata": {
    "id": "RRRDQDJ4fP7m"
   },
   "source": [
    "We can access all the data by iterating throught the incident numbers, we just need to make room for any errors and null values involved. "
   ]
  },
  {
   "cell_type": "code",
   "execution_count": 38,
   "metadata": {
    "colab": {
     "base_uri": "https://localhost:8080/"
    },
    "id": "hO2aiY8pfjFU",
    "outputId": "f97786bb-b342-4f89-893b-1f1fa1f6a991"
   },
   "outputs": [],
   "source": [
    "#parse to find required data \n",
    "fields = soup1.find(\"table\", class_=\"listTable\")\n",
    "data = fields.find_all(\"td\")\n",
    "table = data[4].find_all(\"h5\")\n",
    "\n",
    "haz = []\n",
    "for vals in table:\n",
    "  haz.append(vals.text)\n",
    "\n",
    "tabs = {haz[0]:haz[1], haz[3]:haz[4], haz[5]:haz[6],haz[7]:haz[8], haz[9]:haz[10], haz[11]:haz[12], haz[13]:haz[14],haz[15]:haz[16]}"
   ]
  },
  {
   "cell_type": "code",
   "execution_count": 3,
   "metadata": {
    "id": "Dzau8Nysx_i8"
   },
   "outputs": [],
   "source": [
    "#function to get url and content\n",
    "def get_url(val):\n",
    "\n",
    "  base_url = \"https://safetyzone.iogp.org/FatalIncidents/detail.asp?inc_id=\"\n",
    "  url_main = base_url + str(val)\n",
    "  response = requests.get(url_main)\n",
    "  soup = BeautifulSoup(response.content, \"html.parser\")\n",
    "  return soup"
   ]
  },
  {
   "cell_type": "code",
   "execution_count": 4,
   "metadata": {
    "id": "7e23nABL0zmg"
   },
   "outputs": [],
   "source": [
    "#Function to parse document and extract necessary fields\n",
    "\n",
    "def parse_fields(content):\n",
    "  fields = content.find(\"table\", class_=\"listTable\")\n",
    "  data = fields.find_all(\"td\")\n",
    "  table = data[4].find_all(\"h5\")\n",
    "  \n",
    "  haz = []\n",
    "  for vals in table:\n",
    "    haz.append(vals.text)\n",
    "\n",
    "  tabs = {haz[0]:haz[1], haz[3]:haz[4], haz[5]:haz[6],haz[7]:haz[8], haz[9]:haz[10], haz[11]:haz[12], haz[13]:haz[14],haz[15]:haz[16]}\n",
    "  return tabs\n"
   ]
  },
  {
   "cell_type": "code",
   "execution_count": 18,
   "metadata": {
    "id": "93aknVT5uagP"
   },
   "outputs": [],
   "source": [
    "#Now to import time and parse through 200 / / incidents randint(1298, 8662)\n",
    "#we would create a function to do this \n",
    "#The incident numbers dont follow a pattern so we will get some errors when the page doesnt exist so we would break and continue for cases like this.\n",
    "#THis is a wider range so I'm experiencing low yield so i will Extract in smaller ranges and append to one dataframe\n",
    "from random import seed\n",
    "from random import randint\n",
    "\n",
    "\n",
    "def scrape():\n",
    "  tot = []\n",
    "  seed(5) # seed random number generator\n",
    "  \n",
    "  for _ in range(500): # generate some integers\n",
    "    val = randint(6000, 8662)\n",
    "\n",
    "    try:\n",
    "      tot.append(parse_fields(get_url(val)))\n",
    "    except IndexError:\n",
    "      continue #Required for the null Indent values and the None value entries in the parse function\n",
    "  tot\n",
    "    \n",
    "  return tot\n",
    "\n",
    "fatal = scrape()\n"
   ]
  },
  {
   "cell_type": "code",
   "execution_count": 21,
   "metadata": {
    "colab": {
     "base_uri": "https://localhost:8080/"
    },
    "id": "g1Me4lzi8Yc-",
    "outputId": "52ce3d2e-804b-4b92-ea7c-e23cbd140881"
   },
   "outputs": [
    {
     "data": {
      "text/plain": [
       "283"
      ]
     },
     "execution_count": 21,
     "metadata": {},
     "output_type": "execute_result"
    }
   ],
   "source": [
    "fatal[1]"
   ]
  },
  {
   "cell_type": "code",
   "execution_count": 31,
   "metadata": {
    "colab": {
     "base_uri": "https://localhost:8080/",
     "height": 255
    },
    "id": "9CfiHHtPsntp",
    "outputId": "8471a4e7-fde0-481e-f1a6-0e04f22a4bc1"
   },
   "outputs": [
    {
     "data": {
      "text/html": [
       "<div>\n",
       "<style scoped>\n",
       "    .dataframe tbody tr th:only-of-type {\n",
       "        vertical-align: middle;\n",
       "    }\n",
       "\n",
       "    .dataframe tbody tr th {\n",
       "        vertical-align: top;\n",
       "    }\n",
       "\n",
       "    .dataframe thead th {\n",
       "        text-align: right;\n",
       "    }\n",
       "</style>\n",
       "<table border=\"1\" class=\"dataframe\">\n",
       "  <thead>\n",
       "    <tr style=\"text-align: right;\">\n",
       "      <th></th>\n",
       "      <th>Activity:</th>\n",
       "      <th>Cause:</th>\n",
       "      <th>Country:</th>\n",
       "      <th>Employer:</th>\n",
       "      <th>Fatalities:</th>\n",
       "      <th>Location:</th>\n",
       "      <th>Region:</th>\n",
       "      <th>Year:</th>\n",
       "    </tr>\n",
       "  </thead>\n",
       "  <tbody>\n",
       "    <tr>\n",
       "      <th>0</th>\n",
       "      <td>Transport - Land</td>\n",
       "      <td>Struck by</td>\n",
       "      <td>LIBYA</td>\n",
       "      <td>Contractor</td>\n",
       "      <td>1</td>\n",
       "      <td>Onshore</td>\n",
       "      <td>Africa</td>\n",
       "      <td>2005</td>\n",
       "    </tr>\n",
       "    <tr>\n",
       "      <th>1</th>\n",
       "      <td>Construction, commissioning, decommissioning</td>\n",
       "      <td>Struck by</td>\n",
       "      <td>CANADA</td>\n",
       "      <td>Contractor</td>\n",
       "      <td>1</td>\n",
       "      <td>Onshore</td>\n",
       "      <td>North America</td>\n",
       "      <td>2013</td>\n",
       "    </tr>\n",
       "    <tr>\n",
       "      <th>2</th>\n",
       "      <td>Maintenance, inspection, testing</td>\n",
       "      <td>Struck by</td>\n",
       "      <td>ARGENTINA</td>\n",
       "      <td>Contractor</td>\n",
       "      <td>1</td>\n",
       "      <td>Onshore</td>\n",
       "      <td>South &amp; Central America</td>\n",
       "      <td>2007</td>\n",
       "    </tr>\n",
       "  </tbody>\n",
       "</table>\n",
       "</div>"
      ],
      "text/plain": [
       "                                      Activity:     Cause:   Country:  \\\n",
       "0                              Transport - Land  Struck by      LIBYA   \n",
       "1  Construction, commissioning, decommissioning  Struck by     CANADA   \n",
       "2              Maintenance, inspection, testing  Struck by  ARGENTINA   \n",
       "\n",
       "    Employer: Fatalities: Location:                  Region: Year:  \n",
       "0  Contractor           1   Onshore                   Africa  2005  \n",
       "1  Contractor           1   Onshore            North America  2013  \n",
       "2  Contractor           1   Onshore  South & Central America  2007  "
      ]
     },
     "execution_count": 31,
     "metadata": {},
     "output_type": "execute_result"
    }
   ],
   "source": [
    "#import necessary modules\n",
    "import pandas as pd\n",
    "\n",
    "fatal1 = pd.DataFrame(fatal, columns=[\"Activity:\",\"Cause:\",\"Country:\", \"Employer:\",\"Fatalities:\",\"Location:\",\"Region:\",\"Year:\"])\n",
    "fatal1.head(3)\n"
   ]
  },
  {
   "cell_type": "code",
   "execution_count": 30,
   "metadata": {},
   "outputs": [],
   "source": [
    "fatal2 = pd.DataFrame(fatal, columns=[\"Activity:\",\"Cause:\",\"Country:\", \"Employer:\",\"Fatalities:\",\"Location:\",\"Region:\",\"Year:\"])"
   ]
  },
  {
   "cell_type": "code",
   "execution_count": 29,
   "metadata": {},
   "outputs": [],
   "source": [
    "fatal3 = pd.DataFrame(fatal, columns=[\"Activity:\",\"Cause:\",\"Country:\", \"Employer:\",\"Fatalities:\",\"Location:\",\"Region:\",\"Year:\"])"
   ]
  },
  {
   "cell_type": "code",
   "execution_count": 23,
   "metadata": {
    "colab": {
     "base_uri": "https://localhost:8080/"
    },
    "id": "xxRuePGzHztB",
    "outputId": "621b2376-d59f-44db-d6e8-01be9c7b60af"
   },
   "outputs": [
    {
     "data": {
      "text/plain": [
       "(283, 8)"
      ]
     },
     "execution_count": 23,
     "metadata": {},
     "output_type": "execute_result"
    }
   ],
   "source": [
    "fatal3.shape"
   ]
  },
  {
   "cell_type": "code",
   "execution_count": 28,
   "metadata": {},
   "outputs": [
    {
     "data": {
      "text/plain": [
       "(401, 8)"
      ]
     },
     "execution_count": 28,
     "metadata": {},
     "output_type": "execute_result"
    }
   ],
   "source": [
    "#Mereing the 3 batches of data scraped\n",
    "fatal_df = fatal2.append(fatal3, ignore_index = True) \n",
    "fatal_fin = fatal1.append(fatal_df, ignore_index = True) \n",
    "fatal_fin.shape"
   ]
  },
  {
   "cell_type": "code",
   "execution_count": 40,
   "metadata": {},
   "outputs": [
    {
     "data": {
      "text/html": [
       "<div>\n",
       "<style scoped>\n",
       "    .dataframe tbody tr th:only-of-type {\n",
       "        vertical-align: middle;\n",
       "    }\n",
       "\n",
       "    .dataframe tbody tr th {\n",
       "        vertical-align: top;\n",
       "    }\n",
       "\n",
       "    .dataframe thead th {\n",
       "        text-align: right;\n",
       "    }\n",
       "</style>\n",
       "<table border=\"1\" class=\"dataframe\">\n",
       "  <thead>\n",
       "    <tr style=\"text-align: right;\">\n",
       "      <th></th>\n",
       "      <th>Activity:</th>\n",
       "      <th>Cause:</th>\n",
       "      <th>Country:</th>\n",
       "      <th>Employer:</th>\n",
       "      <th>Fatalities:</th>\n",
       "      <th>Location:</th>\n",
       "      <th>Region:</th>\n",
       "      <th>Year:</th>\n",
       "    </tr>\n",
       "  </thead>\n",
       "  <tbody>\n",
       "    <tr>\n",
       "      <th>count</th>\n",
       "      <td>401</td>\n",
       "      <td>401</td>\n",
       "      <td>401</td>\n",
       "      <td>401</td>\n",
       "      <td>401</td>\n",
       "      <td>401</td>\n",
       "      <td>401</td>\n",
       "      <td>401</td>\n",
       "    </tr>\n",
       "    <tr>\n",
       "      <th>unique</th>\n",
       "      <td>13</td>\n",
       "      <td>11</td>\n",
       "      <td>54</td>\n",
       "      <td>3</td>\n",
       "      <td>10</td>\n",
       "      <td>3</td>\n",
       "      <td>7</td>\n",
       "      <td>22</td>\n",
       "    </tr>\n",
       "    <tr>\n",
       "      <th>top</th>\n",
       "      <td>Transport - Land</td>\n",
       "      <td>Struck by</td>\n",
       "      <td>NIGERIA</td>\n",
       "      <td>Contractor</td>\n",
       "      <td>1</td>\n",
       "      <td>Onshore</td>\n",
       "      <td>Africa</td>\n",
       "      <td>2000</td>\n",
       "    </tr>\n",
       "    <tr>\n",
       "      <th>freq</th>\n",
       "      <td>119</td>\n",
       "      <td>175</td>\n",
       "      <td>48</td>\n",
       "      <td>293</td>\n",
       "      <td>313</td>\n",
       "      <td>300</td>\n",
       "      <td>101</td>\n",
       "      <td>32</td>\n",
       "    </tr>\n",
       "  </tbody>\n",
       "</table>\n",
       "</div>"
      ],
      "text/plain": [
       "               Activity:     Cause: Country:   Employer: Fatalities:  \\\n",
       "count                401        401      401         401         401   \n",
       "unique                13         11       54           3          10   \n",
       "top     Transport - Land  Struck by  NIGERIA  Contractor           1   \n",
       "freq                 119        175       48         293         313   \n",
       "\n",
       "       Location: Region: Year:  \n",
       "count        401     401   401  \n",
       "unique         3       7    22  \n",
       "top      Onshore  Africa  2000  \n",
       "freq         300     101    32  "
      ]
     },
     "execution_count": 40,
     "metadata": {},
     "output_type": "execute_result"
    }
   ],
   "source": [
    "fatal_fin.describe()"
   ]
  },
  {
   "cell_type": "code",
   "execution_count": 43,
   "metadata": {},
   "outputs": [],
   "source": [
    "fatal_fin.to_csv(\"fatal_inc.csv\")"
   ]
  }
 ],
 "metadata": {
  "colab": {
   "collapsed_sections": [],
   "name": "Fatal_Events.ipynb",
   "provenance": []
  },
  "kernelspec": {
   "display_name": "Python 3",
   "language": "python",
   "name": "python3"
  },
  "language_info": {
   "codemirror_mode": {
    "name": "ipython",
    "version": 3
   },
   "file_extension": ".py",
   "mimetype": "text/x-python",
   "name": "python",
   "nbconvert_exporter": "python",
   "pygments_lexer": "ipython3",
   "version": "3.7.3"
  }
 },
 "nbformat": 4,
 "nbformat_minor": 1
}
