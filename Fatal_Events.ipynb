{
 "cells": [
  {
   "cell_type": "markdown",
   "metadata": {
    "id": "mLJ38Ag5bqyJ"
   },
   "source": [
    "We would make attempt to scrape the blocks of essays instead. \n",
    "\n"
   ]
  },
  {
   "cell_type": "code",
   "execution_count": 6,
   "metadata": {
    "id": "Uy0Klx0Dbowv"
   },
   "outputs": [],
   "source": [
    "import requests\n",
    "from bs4 import BeautifulSoup"
   ]
  },
  {
   "cell_type": "code",
   "execution_count": 101,
   "metadata": {
    "id": "eUYdr4L_b0Wl"
   },
   "outputs": [],
   "source": [
    "url = \"https://safetyzone.iogp.org/FatalIncidents/detail.asp?inc_id=8662\"\n"
   ]
  },
  {
   "cell_type": "code",
   "execution_count": null,
   "metadata": {
    "id": "olUxz4WqenhQ"
   },
   "outputs": [],
   "source": [
    "response = requests.get(url)"
   ]
  },
  {
   "cell_type": "code",
   "execution_count": null,
   "metadata": {
    "id": "__9f-1EOexKL"
   },
   "outputs": [],
   "source": [
    "soup1 = BeautifulSoup(response.content, 'html.parser')\n"
   ]
  },
  {
   "cell_type": "markdown",
   "metadata": {
    "id": "RRRDQDJ4fP7m"
   },
   "source": [
    "We can access all the data by iterating throught the incident numbers, we just need to make room for any errors and null values involved. "
   ]
  },
  {
   "cell_type": "code",
   "execution_count": null,
   "metadata": {
    "colab": {
     "base_uri": "https://localhost:8080/"
    },
    "id": "hO2aiY8pfjFU",
    "outputId": "f97786bb-b342-4f89-893b-1f1fa1f6a991"
   },
   "outputs": [
    {
     "data": {
      "text/plain": [
       "{'Activity:': 'Drilling, workover, well services',\n",
       " 'Cause:': 'Explosions or burns',\n",
       " 'Country:': 'ALGERIA',\n",
       " 'Employer:': 'Contractor',\n",
       " 'Fatalities:': '1',\n",
       " 'Location:': 'Onshore',\n",
       " 'Region:': 'Africa',\n",
       " 'Year:': '2018'}"
      ]
     },
     "execution_count": 80,
     "metadata": {
      "tags": []
     },
     "output_type": "execute_result"
    }
   ],
   "source": [
    "#parse to find required data \n",
    "fields = soup1.find(\"table\", class_=\"listTable\")\n",
    "data = fields.find_all(\"td\")\n",
    "table = data[4].find_all(\"h5\")\n",
    "\n",
    "haz = []\n",
    "for vals in table:\n",
    "  haz.append(vals.text)\n",
    "\n",
    "tabs = {haz[0]:haz[1], haz[3]:haz[4], haz[5]:haz[6],haz[7]:haz[8], haz[9]:haz[10], haz[11]:haz[12], haz[13]:haz[14],haz[15]:haz[16]}\n",
    "tabs"
   ]
  },
  {
   "cell_type": "code",
   "execution_count": 3,
   "metadata": {
    "id": "Dzau8Nysx_i8"
   },
   "outputs": [],
   "source": [
    "#function to get url and content\n",
    "def get_url(val):\n",
    "\n",
    "  base_url = \"https://safetyzone.iogp.org/FatalIncidents/detail.asp?inc_id=\"\n",
    "  url_main = base_url + str(val)\n",
    "  response = requests.get(url_main)\n",
    "  soup = BeautifulSoup(response.content, \"html.parser\")\n",
    "  return soup"
   ]
  },
  {
   "cell_type": "code",
   "execution_count": 4,
   "metadata": {
    "id": "7e23nABL0zmg"
   },
   "outputs": [],
   "source": [
    "#Function to parse document and extract necessary fields\n",
    "\n",
    "def parse_fields(content):\n",
    "  fields = content.find(\"table\", class_=\"listTable\")\n",
    "  data = fields.find_all(\"td\")\n",
    "  table = data[4].find_all(\"h5\")\n",
    "  \n",
    "  haz = []\n",
    "  for vals in table:\n",
    "    haz.append(vals.text)\n",
    "\n",
    "  tabs = {haz[0]:haz[1], haz[3]:haz[4], haz[5]:haz[6],haz[7]:haz[8], haz[9]:haz[10], haz[11]:haz[12], haz[13]:haz[14],haz[15]:haz[16]}\n",
    "  return tabs\n"
   ]
  },
  {
   "cell_type": "code",
   "execution_count": null,
   "metadata": {
    "id": "93aknVT5uagP"
   },
   "outputs": [],
   "source": [
    "#Now to import time and parse through 200 / / incidents randint(1298, 8662)\n",
    "#we would create a function to do this \n",
    "#The incident numbers dont follow a pattern so we will get some errors when the page doesnt exist so we would break and continue for cases like this.\n",
    "#THis is a wider range so I'm experiencing low yield so i will Extract in smaller ranges and append to one dataframe\n",
    "from random import seed\n",
    "from random import randint\n",
    "\n",
    "\n",
    "def scrape():\n",
    "  tot = []\n",
    "  seed(5) # seed random number generator\n",
    "  \n",
    "  for _ in range(500): # generate some integers\n",
    "    val = randint(6000, 8662)\n",
    "\n",
    "    try:\n",
    "      tot.append(parse_fields(get_url(val)))\n",
    "    except IndexError:\n",
    "      continue\n",
    "  tot\n",
    "    \n",
    "  return tot\n",
    "\n",
    "fatal = scrape()\n"
   ]
  },
  {
   "cell_type": "code",
   "execution_count": 17,
   "metadata": {
    "colab": {
     "base_uri": "https://localhost:8080/"
    },
    "id": "g1Me4lzi8Yc-",
    "outputId": "52ce3d2e-804b-4b92-ea7c-e23cbd140881"
   },
   "outputs": [
    {
     "ename": "IndexError",
     "evalue": "list index out of range",
     "output_type": "error",
     "traceback": [
      "\u001b[1;31m---------------------------------------------------------------------------\u001b[0m",
      "\u001b[1;31mIndexError\u001b[0m                                Traceback (most recent call last)",
      "\u001b[1;32m<ipython-input-17-88c6431a0be5>\u001b[0m in \u001b[0;36m<module>\u001b[1;34m\u001b[0m\n\u001b[1;32m----> 1\u001b[1;33m \u001b[0mfatal\u001b[0m\u001b[1;33m[\u001b[0m\u001b[1;36m1\u001b[0m\u001b[1;33m]\u001b[0m\u001b[1;33m\u001b[0m\u001b[1;33m\u001b[0m\u001b[0m\n\u001b[0m",
      "\u001b[1;31mIndexError\u001b[0m: list index out of range"
     ]
    }
   ],
   "source": [
    "fatal[1]"
   ]
  },
  {
   "cell_type": "code",
   "execution_count": 11,
   "metadata": {
    "colab": {
     "base_uri": "https://localhost:8080/",
     "height": 255
    },
    "id": "9CfiHHtPsntp",
    "outputId": "8471a4e7-fde0-481e-f1a6-0e04f22a4bc1"
   },
   "outputs": [
    {
     "data": {
      "text/html": [
       "<div>\n",
       "<style scoped>\n",
       "    .dataframe tbody tr th:only-of-type {\n",
       "        vertical-align: middle;\n",
       "    }\n",
       "\n",
       "    .dataframe tbody tr th {\n",
       "        vertical-align: top;\n",
       "    }\n",
       "\n",
       "    .dataframe thead th {\n",
       "        text-align: right;\n",
       "    }\n",
       "</style>\n",
       "<table border=\"1\" class=\"dataframe\">\n",
       "  <thead>\n",
       "    <tr style=\"text-align: right;\">\n",
       "      <th></th>\n",
       "      <th>Activity:</th>\n",
       "      <th>Cause:</th>\n",
       "      <th>Country:</th>\n",
       "      <th>Employer:</th>\n",
       "      <th>Fatalities:</th>\n",
       "      <th>Location:</th>\n",
       "      <th>Region:</th>\n",
       "      <th>Year:</th>\n",
       "    </tr>\n",
       "  </thead>\n",
       "  <tbody>\n",
       "    <tr>\n",
       "      <th>0</th>\n",
       "      <td>Transport - Land</td>\n",
       "      <td>Struck by</td>\n",
       "      <td>RUSSIA</td>\n",
       "      <td>Company</td>\n",
       "      <td>1</td>\n",
       "      <td>Onshore</td>\n",
       "      <td>Russia &amp; Central Asia</td>\n",
       "      <td>2008</td>\n",
       "    </tr>\n",
       "    <tr>\n",
       "      <th>1</th>\n",
       "      <td>Construction, commissioning, decommissioning</td>\n",
       "      <td>Caught in, under or between (excl. dropped obj...</td>\n",
       "      <td>BRUNEI</td>\n",
       "      <td>Contractor</td>\n",
       "      <td>1</td>\n",
       "      <td>Onshore</td>\n",
       "      <td>Asia/Australasia</td>\n",
       "      <td>2004</td>\n",
       "    </tr>\n",
       "    <tr>\n",
       "      <th>2</th>\n",
       "      <td>Lifting, crane, rigging, deck operations</td>\n",
       "      <td>Caught in, under or between (excl. dropped obj...</td>\n",
       "      <td>ARGENTINA</td>\n",
       "      <td>Contractor</td>\n",
       "      <td>1</td>\n",
       "      <td>Onshore</td>\n",
       "      <td>South &amp; Central America</td>\n",
       "      <td>2015</td>\n",
       "    </tr>\n",
       "    <tr>\n",
       "      <th>3</th>\n",
       "      <td>Maintenance, inspection, testing</td>\n",
       "      <td>Falls from height</td>\n",
       "      <td>MEXICO</td>\n",
       "      <td>Company</td>\n",
       "      <td>1</td>\n",
       "      <td>Onshore</td>\n",
       "      <td>North America</td>\n",
       "      <td>2000</td>\n",
       "    </tr>\n",
       "    <tr>\n",
       "      <th>4</th>\n",
       "      <td>Transport - Land</td>\n",
       "      <td>Struck by</td>\n",
       "      <td>ROMANIA</td>\n",
       "      <td>Company</td>\n",
       "      <td>1</td>\n",
       "      <td>Onshore</td>\n",
       "      <td>Europe</td>\n",
       "      <td>2008</td>\n",
       "    </tr>\n",
       "  </tbody>\n",
       "</table>\n",
       "</div>"
      ],
      "text/plain": [
       "                                      Activity:  \\\n",
       "0                              Transport - Land   \n",
       "1  Construction, commissioning, decommissioning   \n",
       "2      Lifting, crane, rigging, deck operations   \n",
       "3              Maintenance, inspection, testing   \n",
       "4                              Transport - Land   \n",
       "\n",
       "                                              Cause:   Country:   Employer:  \\\n",
       "0                                          Struck by     RUSSIA     Company   \n",
       "1  Caught in, under or between (excl. dropped obj...     BRUNEI  Contractor   \n",
       "2  Caught in, under or between (excl. dropped obj...  ARGENTINA  Contractor   \n",
       "3                                  Falls from height     MEXICO     Company   \n",
       "4                                          Struck by    ROMANIA     Company   \n",
       "\n",
       "  Fatalities: Location:                  Region: Year:  \n",
       "0           1   Onshore    Russia & Central Asia  2008  \n",
       "1           1   Onshore         Asia/Australasia  2004  \n",
       "2           1   Onshore  South & Central America  2015  \n",
       "3           1   Onshore            North America  2000  \n",
       "4           1   Onshore                   Europe  2008  "
      ]
     },
     "execution_count": 11,
     "metadata": {},
     "output_type": "execute_result"
    }
   ],
   "source": [
    "#import necessary modules\n",
    "import pandas as pd\n",
    "\n",
    "fatal1 = pd.DataFrame(fatal, columns=[\"Activity:\",\"Cause:\",\"Country:\", \"Employer:\",\"Fatalities:\",\"Location:\",\"Region:\",\"Year:\"])\n",
    "fatal1.head()\n"
   ]
  },
  {
   "cell_type": "code",
   "execution_count": 14,
   "metadata": {},
   "outputs": [
    {
     "data": {
      "text/html": [
       "<div>\n",
       "<style scoped>\n",
       "    .dataframe tbody tr th:only-of-type {\n",
       "        vertical-align: middle;\n",
       "    }\n",
       "\n",
       "    .dataframe tbody tr th {\n",
       "        vertical-align: top;\n",
       "    }\n",
       "\n",
       "    .dataframe thead th {\n",
       "        text-align: right;\n",
       "    }\n",
       "</style>\n",
       "<table border=\"1\" class=\"dataframe\">\n",
       "  <thead>\n",
       "    <tr style=\"text-align: right;\">\n",
       "      <th></th>\n",
       "      <th>Activity:</th>\n",
       "      <th>Cause:</th>\n",
       "      <th>Country:</th>\n",
       "      <th>Employer:</th>\n",
       "      <th>Fatalities:</th>\n",
       "      <th>Location:</th>\n",
       "      <th>Region:</th>\n",
       "      <th>Year:</th>\n",
       "    </tr>\n",
       "  </thead>\n",
       "  <tbody>\n",
       "    <tr>\n",
       "      <th>0</th>\n",
       "      <td>null</td>\n",
       "      <td>Water related, drowning</td>\n",
       "      <td>NIGERIA</td>\n",
       "      <td>no data</td>\n",
       "      <td>0</td>\n",
       "      <td>Onshore</td>\n",
       "      <td>Africa</td>\n",
       "      <td>1999</td>\n",
       "    </tr>\n",
       "    <tr>\n",
       "      <th>1</th>\n",
       "      <td>Transport - Air</td>\n",
       "      <td>Struck by</td>\n",
       "      <td>USA</td>\n",
       "      <td>no data</td>\n",
       "      <td>2</td>\n",
       "      <td>Offshore</td>\n",
       "      <td>North America</td>\n",
       "      <td>1999</td>\n",
       "    </tr>\n",
       "    <tr>\n",
       "      <th>2</th>\n",
       "      <td>null</td>\n",
       "      <td>Falls from height</td>\n",
       "      <td>NIGERIA</td>\n",
       "      <td>Contractor</td>\n",
       "      <td>1</td>\n",
       "      <td>Onshore</td>\n",
       "      <td>Africa</td>\n",
       "      <td>1991</td>\n",
       "    </tr>\n",
       "    <tr>\n",
       "      <th>3</th>\n",
       "      <td>null</td>\n",
       "      <td>Falls from height</td>\n",
       "      <td>VENEZUELA</td>\n",
       "      <td>Company</td>\n",
       "      <td>1</td>\n",
       "      <td>Onshore</td>\n",
       "      <td>South &amp; Central America</td>\n",
       "      <td>1991</td>\n",
       "    </tr>\n",
       "    <tr>\n",
       "      <th>4</th>\n",
       "      <td>Transport - Air</td>\n",
       "      <td>Struck by</td>\n",
       "      <td>VENEZUELA</td>\n",
       "      <td>Contractor</td>\n",
       "      <td>2</td>\n",
       "      <td>Onshore</td>\n",
       "      <td>South &amp; Central America</td>\n",
       "      <td>1991</td>\n",
       "    </tr>\n",
       "  </tbody>\n",
       "</table>\n",
       "</div>"
      ],
      "text/plain": [
       "         Activity:                   Cause:   Country:   Employer:  \\\n",
       "0             null  Water related, drowning    NIGERIA     no data   \n",
       "1  Transport - Air                Struck by        USA     no data   \n",
       "2             null        Falls from height    NIGERIA  Contractor   \n",
       "3             null        Falls from height  VENEZUELA     Company   \n",
       "4  Transport - Air                Struck by  VENEZUELA  Contractor   \n",
       "\n",
       "  Fatalities: Location:                  Region: Year:  \n",
       "0           0   Onshore                   Africa  1999  \n",
       "1           2  Offshore            North America  1999  \n",
       "2           1   Onshore                   Africa  1991  \n",
       "3           1   Onshore  South & Central America  1991  \n",
       "4           2   Onshore  South & Central America  1991  "
      ]
     },
     "execution_count": 14,
     "metadata": {},
     "output_type": "execute_result"
    }
   ],
   "source": [
    "fatal2 = pd.DataFrame(fatal, columns=[\"Activity:\",\"Cause:\",\"Country:\", \"Employer:\",\"Fatalities:\",\"Location:\",\"Region:\",\"Year:\"])\n",
    "fatal2.head()"
   ]
  },
  {
   "cell_type": "code",
   "execution_count": null,
   "metadata": {},
   "outputs": [],
   "source": [
    "fatal3 = pd.DataFrame(fatal, columns=[\"Activity:\",\"Cause:\",\"Country:\", \"Employer:\",\"Fatalities:\",\"Location:\",\"Region:\",\"Year:\"])\n",
    "fatal3.head()\n"
   ]
  },
  {
   "cell_type": "code",
   "execution_count": 10,
   "metadata": {
    "colab": {
     "base_uri": "https://localhost:8080/"
    },
    "id": "xxRuePGzHztB",
    "outputId": "621b2376-d59f-44db-d6e8-01be9c7b60af"
   },
   "outputs": [
    {
     "data": {
      "text/plain": [
       "(88, 8)"
      ]
     },
     "execution_count": 10,
     "metadata": {},
     "output_type": "execute_result"
    }
   ],
   "source": [
    "fatal1.shape"
   ]
  }
 ],
 "metadata": {
  "colab": {
   "collapsed_sections": [],
   "name": "Fatal_Events.ipynb",
   "provenance": []
  },
  "kernelspec": {
   "display_name": "Python 3",
   "language": "python",
   "name": "python3"
  },
  "language_info": {
   "codemirror_mode": {
    "name": "ipython",
    "version": 3
   },
   "file_extension": ".py",
   "mimetype": "text/x-python",
   "name": "python",
   "nbconvert_exporter": "python",
   "pygments_lexer": "ipython3",
   "version": "3.7.3"
  }
 },
 "nbformat": 4,
 "nbformat_minor": 1
}
