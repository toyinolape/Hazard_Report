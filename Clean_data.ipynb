{
 "cells": [
  {
   "cell_type": "code",
   "execution_count": 7,
   "metadata": {},
   "outputs": [],
   "source": [
    "import pandas as pd\n",
    "import numpy as np"
   ]
  },
  {
   "cell_type": "code",
   "execution_count": 5,
   "metadata": {},
   "outputs": [],
   "source": [
    "df1 = pd.read_csv(\"fatal_inc.csv\")\n",
    "df2 = pd.read_csv(\"near_miss.csv\")\n"
   ]
  },
  {
   "cell_type": "code",
   "execution_count": 16,
   "metadata": {},
   "outputs": [
    {
     "data": {
      "text/plain": [
       "(Unnamed: 0      0\n",
       " Activity:      39\n",
       " Cause:          0\n",
       " Country:        0\n",
       " Employer:       0\n",
       " Fatalities:     0\n",
       " Location:       0\n",
       " Region:         0\n",
       " Year:           0\n",
       " dtype: int64, Unnamed: 0     0\n",
       " Activity:     37\n",
       " Cause:         0\n",
       " Country:       0\n",
       " Function:      0\n",
       " Location:      0\n",
       " Region:        0\n",
       " Year:          0\n",
       " dtype: int64)"
      ]
     },
     "execution_count": 16,
     "metadata": {},
     "output_type": "execute_result"
    }
   ],
   "source": [
    "#Check for null values \n",
    "df1.isnull().sum(), df2.isnull().sum()"
   ]
  },
  {
   "cell_type": "code",
   "execution_count": 19,
   "metadata": {},
   "outputs": [
    {
     "data": {
      "text/plain": [
       "((401, 9), (454, 8))"
      ]
     },
     "execution_count": 19,
     "metadata": {},
     "output_type": "execute_result"
    }
   ],
   "source": [
    "df1.shape, df2.shape"
   ]
  },
  {
   "cell_type": "markdown",
   "metadata": {},
   "source": [
    "We  notice the Actitivy column has cells with null values. The rows would be deleted."
   ]
  },
  {
   "cell_type": "code",
   "execution_count": 21,
   "metadata": {},
   "outputs": [],
   "source": [
    "df1 = df1.dropna(how='any',axis=0)\n",
    "df2 = df2.dropna(how='any',axis=0)\n"
   ]
  },
  {
   "cell_type": "code",
   "execution_count": 22,
   "metadata": {},
   "outputs": [
    {
     "data": {
      "text/plain": [
       "(Unnamed: 0     0\n",
       " Activity:      0\n",
       " Cause:         0\n",
       " Country:       0\n",
       " Employer:      0\n",
       " Fatalities:    0\n",
       " Location:      0\n",
       " Region:        0\n",
       " Year:          0\n",
       " dtype: int64, Unnamed: 0    0\n",
       " Activity:     0\n",
       " Cause:        0\n",
       " Country:      0\n",
       " Function:     0\n",
       " Location:     0\n",
       " Region:       0\n",
       " Year:         0\n",
       " dtype: int64)"
      ]
     },
     "execution_count": 22,
     "metadata": {},
     "output_type": "execute_result"
    }
   ],
   "source": [
    "#REcheck for null values \n",
    "df1.isnull().sum(), df2.isnull().sum()\n"
   ]
  },
  {
   "cell_type": "code",
   "execution_count": 26,
   "metadata": {},
   "outputs": [],
   "source": [
    "df1.to_csv(\"fatal_inc_clean.csv\")\n",
    "df2.to_csv(\"near_miss_clean.csv\")"
   ]
  }
 ],
 "metadata": {
  "kernelspec": {
   "display_name": "Python 3",
   "language": "python",
   "name": "python3"
  },
  "language_info": {
   "codemirror_mode": {
    "name": "ipython",
    "version": 3
   },
   "file_extension": ".py",
   "mimetype": "text/x-python",
   "name": "python",
   "nbconvert_exporter": "python",
   "pygments_lexer": "ipython3",
   "version": "3.7.3"
  }
 },
 "nbformat": 4,
 "nbformat_minor": 2
}
